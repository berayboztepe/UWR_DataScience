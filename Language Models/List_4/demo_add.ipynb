{
 "cells": [
  {
   "cell_type": "markdown",
   "metadata": {},
   "source": [
    "A cute little demo showing the simplest usage of minGPT. Configured to run fine on Macbook Air in like a minute."
   ]
  },
  {
   "cell_type": "code",
   "execution_count": 1,
   "metadata": {},
   "outputs": [],
   "source": [
    "import torch\n",
    "from torch.utils.data import Dataset\n",
    "from torch.utils.data.dataloader import DataLoader\n",
    "from mingpt.utils import set_seed\n",
    "set_seed(3407)"
   ]
  },
  {
   "cell_type": "code",
   "execution_count": 2,
   "metadata": {},
   "outputs": [],
   "source": [
    "import pickle\n",
    "\n",
    "class SortDataset(Dataset):\n",
    "    \"\"\" \n",
    "    Dataset for the Sort problem. E.g. for problem length 6:\n",
    "    Input: 0 0 2 1 0 1 -> Output: 0 0 0 1 1 2\n",
    "    Which will feed into the transformer concatenated as:\n",
    "    input:  0 0 2 1 0 1 0 0 0 1 1\n",
    "    output: I I I I I 0 0 0 1 1 2\n",
    "    where I is \"ignore\", as the transformer is reading the input sequence\n",
    "    \"\"\"\n",
    "\n",
    "    def __init__(self, split, length=6, num_digits=3):\n",
    "        assert split in {'train', 'test'}\n",
    "        self.split = split\n",
    "        self.length = length\n",
    "        self.num_digits = num_digits\n",
    "    \n",
    "    def __len__(self):\n",
    "        return 10000 # ...\n",
    "    \n",
    "    def get_vocab_size(self):\n",
    "        return self.num_digits\n",
    "    \n",
    "    def get_block_size(self):\n",
    "        # the length of the sequence that will feed into transformer, \n",
    "        # containing concatenated input and the output, but -1 because\n",
    "        # the transformer starts making predictions at the last input element\n",
    "        return self.length * 2 - 1\n",
    "\n",
    "    def __getitem__(self, idx):\n",
    "        \n",
    "        # use rejection sampling to generate an input example from the desired split\n",
    "        while True:\n",
    "            # generate some random integers\n",
    "            inp = torch.randint(self.num_digits, size=(self.length,), dtype=torch.long)\n",
    "            # half of the time let's try to boost the number of examples that \n",
    "            # have a large number of repeats, as this is what the model seems to struggle\n",
    "            # with later in training, and they are kind of rate\n",
    "            if torch.rand(1).item() < 0.5:\n",
    "                if inp.unique().nelement() > self.length // 2:\n",
    "                    # too many unqiue digits, re-sample\n",
    "                    continue\n",
    "            # figure out if this generated example is train or test based on its hash\n",
    "            h = hash(pickle.dumps(inp.tolist()))\n",
    "            inp_split = 'test' if h % 4 == 0 else 'train' # designate 25% of examples as test\n",
    "            if inp_split == self.split:\n",
    "                break # ok\n",
    "        \n",
    "        # solve the task: i.e. sort\n",
    "        sol = torch.sort(inp)[0]\n",
    "\n",
    "        # concatenate the problem specification and the solution\n",
    "        cat = torch.cat((inp, sol), dim=0)\n",
    "\n",
    "        # the inputs to the transformer will be the offset sequence\n",
    "        x = cat[:-1].clone()\n",
    "        y = cat[1:].clone()\n",
    "        # we only want to predict at output locations, mask out the loss at the input locations\n",
    "        y[:self.length-1] = -1\n",
    "        return x, y\n"
   ]
  },
  {
   "cell_type": "code",
   "execution_count": 3,
   "metadata": {},
   "outputs": [
    {
     "name": "stdout",
     "output_type": "stream",
     "text": [
      "[0, 6, 2, 5, 3, 6, 0, 5, 9, 8]\n",
      "[4, 9, 5, 3, 7, 8, 0, 8, 7, 3]\n",
      "[6, 4, 4, 3, 1, 4, 0, 9, 5, 8]\n",
      "[3, 5, 9, 1, 1, 9, 0, 4, 7, 8]\n",
      "[3, 5, 0, 1, 4, 8, 0, 4, 9, 8]\n",
      "[0, 0, 2, 9, 3, 7, 0, 9, 3, 9]\n",
      "[8, 4, 8, 2, 3, 7, 1, 0, 8, 5]\n",
      "[9, 9, 9, 7, 0, 6, 1, 7, 0, 5]\n",
      "[7, 4, 5, 1, 3, 6, 0, 8, 8, 1]\n",
      "[1, 0, 1, 0, 4, 2, 0, 1, 4, 3]\n"
     ]
    }
   ],
   "source": [
    "import random\n",
    "\n",
    "def random_add_instance(length):\n",
    "    a = [random.randint(0,9) for i in range(length)]\n",
    "    b = [random.randint(0,9) for i in range(length)]\n",
    "    val_a = int(''.join(str(d) for d in a))\n",
    "    val_b = int(''.join(str(d) for d in b))\n",
    "    val_c = val_a + val_b\n",
    "    str_c = str(val_c)\n",
    "    str_c = (length + 1 - len(str_c)) * '0' + str_c\n",
    "    return a + b + [int(d) for d in str_c]\n",
    "\n",
    "for i in range(10):\n",
    "    print (random_add_instance(3))\n",
    "\n"
   ]
  },
  {
   "cell_type": "code",
   "execution_count": 4,
   "metadata": {},
   "outputs": [],
   "source": [
    "class AddDataset(Dataset):\n",
    "    \"\"\" \n",
    "    Dataset for the Add problem. E.g. for problem length 3:\n",
    "    12 + 333 = 345\n",
    "    Input: 0 1 2 3 3 3 -> Output: 0 3 4 5\n",
    "    Which will feed into the transformer concatenated as:\n",
    "    input:  0 1 2 3 3 3 0 3 4\n",
    "    output: I I I I I 0 3 4 5\n",
    "    where I is \"ignore\", as the transformer is reading the input sequence\n",
    "    \"\"\"\n",
    "\n",
    "    def __init__(self, split, length=3):\n",
    "        assert split in {'train', 'test'}\n",
    "        self.split = split\n",
    "        self.length = length\n",
    "    \n",
    "    def __len__(self):\n",
    "        return 10000 # ...\n",
    "    \n",
    "    def get_vocab_size(self):\n",
    "        return 10\n",
    "    \n",
    "    def get_block_size(self):\n",
    "        # the length of the sequence that will feed into transformer, \n",
    "        # containing concatenated input and the output, but -1 because\n",
    "        # the transformer starts making predictions at the last input element\n",
    "        return 3 * self.length + 1 - 1\n",
    "\n",
    "    def __getitem__(self, idx):\n",
    "        while True:\n",
    "            rai = random_add_instance(self.length)\n",
    "            h = hash(str(rai[:2*self.length]))\n",
    "            \n",
    "            inp_split = 'test' if h % 4 == 0 else 'train' # designate 25% of examples as test\n",
    "            if inp_split == self.split:\n",
    "                break # ok\n",
    "        \n",
    "        x = torch.tensor(rai[:-1], dtype=torch.long)\n",
    "        y = torch.tensor(rai[1:], dtype=torch.long)\n",
    "        \n",
    "        # we only want to predict at output locations, mask out the loss at the input locations\n",
    "        y[:2*self.length-1] = -1\n",
    "        return x, y"
   ]
  },
  {
   "cell_type": "code",
   "execution_count": 5,
   "metadata": {},
   "outputs": [
    {
     "name": "stdout",
     "output_type": "stream",
     "text": [
      "tensor([2, 9, 3, 4, 8, 0, 0, 7, 7])\n",
      "2 -1\n",
      "9 -1\n",
      "3 -1\n",
      "4 -1\n",
      "8 -1\n",
      "0 0\n",
      "0 7\n",
      "7 7\n",
      "7 3\n"
     ]
    }
   ],
   "source": [
    "# print an example instance of the dataset\n",
    "train_dataset = AddDataset('train')\n",
    "test_dataset = AddDataset('test')\n",
    "x, y = train_dataset[0]\n",
    "\n",
    "print (x)\n",
    "for a, b in zip(x,y):\n",
    "    print(int(a),int(b))"
   ]
  },
  {
   "cell_type": "code",
   "execution_count": 6,
   "metadata": {},
   "outputs": [
    {
     "name": "stdout",
     "output_type": "stream",
     "text": [
      "number of parameters: 0.09M\n"
     ]
    }
   ],
   "source": [
    "# create a GPT instance\n",
    "from mingpt.model import GPT\n",
    "\n",
    "model_config = GPT.get_default_config()\n",
    "model_config.model_type = 'gpt-micro'\n",
    "model_config.model_type = 'gpt-nano'\n",
    "\n",
    "model_config.vocab_size = train_dataset.get_vocab_size()\n",
    "model_config.block_size = train_dataset.get_block_size()\n",
    "model = GPT(model_config)"
   ]
  },
  {
   "cell_type": "code",
   "execution_count": 7,
   "metadata": {},
   "outputs": [
    {
     "name": "stdout",
     "output_type": "stream",
     "text": [
      "3 3 48\n"
     ]
    }
   ],
   "source": [
    "print (model_config.n_head, model_config.n_layer, model_config.n_embd)"
   ]
  },
  {
   "cell_type": "code",
   "execution_count": 8,
   "metadata": {},
   "outputs": [
    {
     "name": "stdout",
     "output_type": "stream",
     "text": [
      "running on device cpu\n"
     ]
    }
   ],
   "source": [
    "# create a Trainer object\n",
    "from mingpt.trainer import Trainer\n",
    "\n",
    "train_config = Trainer.get_default_config()\n",
    "train_config.learning_rate = 5e-4 # the model we're using is so small that we can go a bit faster\n",
    "train_config.max_iters = 5000\n",
    "train_config.num_workers = 0\n",
    "trainer = Trainer(train_config, model, train_dataset)"
   ]
  },
  {
   "cell_type": "code",
   "execution_count": 9,
   "metadata": {},
   "outputs": [
    {
     "name": "stdout",
     "output_type": "stream",
     "text": [
      "iter_dt 0.00ms; iter 0: train loss 2.29607\n",
      "iter_dt 28.35ms; iter 100: train loss 1.78592\n",
      "iter_dt 27.74ms; iter 200: train loss 1.56774\n",
      "iter_dt 29.95ms; iter 300: train loss 1.53318\n",
      "iter_dt 22.89ms; iter 400: train loss 1.48234\n",
      "iter_dt 29.21ms; iter 500: train loss 1.48851\n",
      "iter_dt 26.98ms; iter 600: train loss 1.41723\n",
      "iter_dt 27.21ms; iter 700: train loss 1.40229\n",
      "iter_dt 28.09ms; iter 800: train loss 1.41231\n",
      "iter_dt 26.13ms; iter 900: train loss 1.38252\n",
      "iter_dt 23.03ms; iter 1000: train loss 1.36629\n",
      "iter_dt 33.88ms; iter 1100: train loss 1.35301\n",
      "iter_dt 29.50ms; iter 1200: train loss 1.37860\n",
      "iter_dt 35.87ms; iter 1300: train loss 1.33431\n",
      "iter_dt 30.71ms; iter 1400: train loss 1.34988\n",
      "iter_dt 33.15ms; iter 1500: train loss 1.39159\n",
      "iter_dt 27.90ms; iter 1600: train loss 1.33915\n",
      "iter_dt 30.33ms; iter 1700: train loss 1.30894\n",
      "iter_dt 27.64ms; iter 1800: train loss 1.35110\n",
      "iter_dt 29.54ms; iter 1900: train loss 1.33479\n",
      "iter_dt 38.17ms; iter 2000: train loss 1.31770\n",
      "iter_dt 30.56ms; iter 2100: train loss 1.30196\n",
      "iter_dt 28.11ms; iter 2200: train loss 1.29881\n",
      "iter_dt 29.87ms; iter 2300: train loss 1.29879\n",
      "iter_dt 28.03ms; iter 2400: train loss 1.30847\n",
      "iter_dt 27.51ms; iter 2500: train loss 1.32472\n",
      "iter_dt 27.45ms; iter 2600: train loss 1.34541\n",
      "iter_dt 31.67ms; iter 2700: train loss 1.31513\n",
      "iter_dt 26.12ms; iter 2800: train loss 1.30980\n",
      "iter_dt 30.34ms; iter 2900: train loss 1.33034\n",
      "iter_dt 28.44ms; iter 3000: train loss 1.28871\n",
      "iter_dt 27.72ms; iter 3100: train loss 1.28609\n",
      "iter_dt 27.95ms; iter 3200: train loss 1.25995\n",
      "iter_dt 25.73ms; iter 3300: train loss 1.27289\n",
      "iter_dt 25.75ms; iter 3400: train loss 1.24504\n",
      "iter_dt 25.19ms; iter 3500: train loss 1.21779\n",
      "iter_dt 23.04ms; iter 3600: train loss 1.24499\n",
      "iter_dt 25.60ms; iter 3700: train loss 1.03607\n",
      "iter_dt 42.67ms; iter 3800: train loss 0.80231\n",
      "iter_dt 30.00ms; iter 3900: train loss 0.73635\n",
      "iter_dt 25.46ms; iter 4000: train loss 0.64632\n",
      "iter_dt 26.48ms; iter 4100: train loss 0.72060\n",
      "iter_dt 24.88ms; iter 4200: train loss 0.68793\n",
      "iter_dt 25.29ms; iter 4300: train loss 0.60004\n",
      "iter_dt 25.39ms; iter 4400: train loss 0.57723\n",
      "iter_dt 25.53ms; iter 4500: train loss 0.53110\n",
      "iter_dt 26.04ms; iter 4600: train loss 0.59176\n",
      "iter_dt 27.10ms; iter 4700: train loss 0.50497\n",
      "iter_dt 24.43ms; iter 4800: train loss 0.53902\n",
      "iter_dt 26.28ms; iter 4900: train loss 0.41880\n"
     ]
    }
   ],
   "source": [
    "def batch_end_callback(trainer):\n",
    "    if trainer.iter_num % 100 == 0:\n",
    "        print(f\"iter_dt {trainer.iter_dt * 1000:.2f}ms; iter {trainer.iter_num}: train loss {trainer.loss.item():.5f}\")\n",
    "trainer.set_callback('on_batch_end', batch_end_callback)\n",
    "\n",
    "trainer.run()"
   ]
  },
  {
   "cell_type": "code",
   "execution_count": 10,
   "metadata": {},
   "outputs": [],
   "source": [
    "# now let's perform some evaluation\n",
    "model.eval()\n",
    "None"
   ]
  },
  {
   "cell_type": "code",
   "execution_count": 11,
   "metadata": {},
   "outputs": [
    {
     "name": "stdout",
     "output_type": "stream",
     "text": [
      "train final score: 8151/10000 = 81.51% correct\n",
      "test final score: 8110/10000 = 81.10% correct\n"
     ]
    }
   ],
   "source": [
    "def eval_add_split(trainer, split, max_batches):\n",
    "    dataset = {'train':train_dataset, 'test':test_dataset}[split]\n",
    "    n = train_dataset.length # naugy direct access shrug\n",
    "    results = []\n",
    "    mistakes_printed_already = 0\n",
    "    loader = DataLoader(dataset, batch_size=100, num_workers=0, drop_last=False)\n",
    "    #loader = DataLoader(dataset, batch_size=1, num_workers=0, drop_last=False)\n",
    "    for b, (x, y) in enumerate(loader):\n",
    "        x = x.to(trainer.device)\n",
    "        y = y.to(trainer.device)\n",
    "\n",
    "        inp = x[:, :2*n]\n",
    "        sol = y[:, -n-1:]\n",
    "        \n",
    "        cat = model.generate(inp, n+1, do_sample=False) # using greedy argmax, not sampling\n",
    "        sol_candidate = cat[:, -n-1:]         \n",
    "        correct = (sol == sol_candidate).all(1).cpu() \n",
    "        for i in range(x.size(0)):\n",
    "            results.append(int(correct[i]))\n",
    "    \n",
    "    rt = torch.tensor(results, dtype=torch.float)\n",
    "    print(\"%s final score: %d/%d = %.2f%% correct\" % (split, rt.sum(), len(results), 100*rt.mean()))\n",
    "    return rt.sum()\n",
    "\n",
    "# run a lot of examples from both train and test through the model and verify the output correctness\n",
    "with torch.no_grad():\n",
    "    train_score = eval_add_split(trainer, 'train', max_batches=50)\n",
    "    test_score  = eval_add_split(trainer, 'test',  max_batches=50)"
   ]
  }
 ],
 "metadata": {
  "kernelspec": {
   "display_name": "Python 3",
   "language": "python",
   "name": "python3"
  },
  "language_info": {
   "codemirror_mode": {
    "name": "ipython",
    "version": 3
   },
   "file_extension": ".py",
   "mimetype": "text/x-python",
   "name": "python",
   "nbconvert_exporter": "python",
   "pygments_lexer": "ipython3",
   "version": "3.11.9"
  }
 },
 "nbformat": 4,
 "nbformat_minor": 2
}
