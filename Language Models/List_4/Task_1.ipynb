{
 "cells": [
  {
   "cell_type": "code",
   "execution_count": 1,
   "metadata": {},
   "outputs": [],
   "source": [
    "import torch\n",
    "from torch.utils.data import Dataset\n",
    "from torch.utils.data.dataloader import DataLoader\n",
    "from mingpt.utils import set_seed\n",
    "set_seed(3407)"
   ]
  },
  {
   "cell_type": "code",
   "execution_count": 2,
   "metadata": {},
   "outputs": [
    {
     "name": "stdout",
     "output_type": "stream",
     "text": [
      "[0, 6, 2, 5, 3, 6, 0, 3, 3, 2, 3, 2]\n",
      "[4, 9, 5, 3, 7, 8, 1, 8, 7, 1, 1, 0]\n",
      "[6, 4, 4, 3, 1, 4, 2, 0, 2, 2, 1, 6]\n",
      "[3, 5, 9, 1, 1, 9, 0, 4, 2, 7, 2, 1]\n",
      "[3, 5, 0, 1, 4, 8, 0, 5, 1, 8, 0, 0]\n",
      "[0, 0, 2, 9, 3, 7, 0, 0, 1, 8, 7, 4]\n",
      "[8, 4, 8, 2, 3, 7, 2, 0, 0, 9, 7, 6]\n",
      "[9, 9, 9, 7, 0, 6, 7, 0, 5, 2, 9, 4]\n",
      "[7, 4, 5, 1, 3, 6, 1, 0, 1, 3, 2, 0]\n",
      "[1, 0, 1, 0, 4, 2, 0, 0, 4, 2, 4, 2]\n"
     ]
    }
   ],
   "source": [
    "import random\n",
    "\n",
    "def random_mul_instance(length):\n",
    "    a = [random.randint(0,9) for i in range(length)]\n",
    "    b = [random.randint(0,9) for i in range(length)]\n",
    "    val_a = int(''.join(str(d) for d in a))\n",
    "    val_b = int(''.join(str(d) for d in b))\n",
    "    val_c = val_a * val_b\n",
    "    str_c = str(val_c)\n",
    "    str_c = (2*length - len(str_c)) * '0' + str_c\n",
    "    return a + b + [int(d) for d in str_c]\n",
    "\n",
    "for i in range(10):\n",
    "    print (random_mul_instance(3))"
   ]
  },
  {
   "cell_type": "code",
   "execution_count": 3,
   "metadata": {},
   "outputs": [],
   "source": [
    "class MulDataset(Dataset):\n",
    "    \"\"\" \n",
    "    Dataset for the Add problem. E.g. for problem length 3:\n",
    "    12 + 333 = 345\n",
    "    Input: 0 1 2 3 3 3 -> Output: 0 3 4 5\n",
    "    Which will feed into the transformer concatenated as:\n",
    "    input:  0 1 2 3 3 3 0 3 4\n",
    "    output: I I I I I 0 3 4 5\n",
    "    where I is \"ignore\", as the transformer is reading the input sequence\n",
    "    \"\"\"\n",
    "\n",
    "    def __init__(self, split, length=3):\n",
    "        assert split in {'train', 'test'}\n",
    "        self.split = split\n",
    "        self.length = length\n",
    "    \n",
    "    def __len__(self):\n",
    "        return 10000 # ...\n",
    "    \n",
    "    def get_vocab_size(self):\n",
    "        return 10\n",
    "    \n",
    "    def get_block_size(self):\n",
    "        # the length of the sequence that will feed into transformer, \n",
    "        # containing concatenated input and the output, but -1 because\n",
    "        # the transformer starts making predictions at the last input element\n",
    "        return 4 * self.length - 1\n",
    "\n",
    "    def __getitem__(self, idx):\n",
    "        while True:\n",
    "            rai = random_mul_instance(self.length)\n",
    "            h = hash(str(rai[:2*self.length]))\n",
    "            \n",
    "            inp_split = 'test' if h % 4 == 0 else 'train' # designate 25% of examples as test\n",
    "            if inp_split == self.split:\n",
    "                break # ok\n",
    "        \n",
    "        x = torch.tensor(rai[:-1], dtype=torch.long)\n",
    "        y = torch.tensor(rai[1:], dtype=torch.long)\n",
    "        \n",
    "        # we only want to predict at output locations, mask out the loss at the input locations\n",
    "        y[:2*self.length-1] = -1\n",
    "        return x, y"
   ]
  },
  {
   "cell_type": "code",
   "execution_count": 4,
   "metadata": {},
   "outputs": [
    {
     "name": "stdout",
     "output_type": "stream",
     "text": [
      "tensor([2, 9, 3, 4, 8, 0, 1, 4, 0, 6, 4])\n",
      "2 -1\n",
      "9 -1\n",
      "3 -1\n",
      "4 -1\n",
      "8 -1\n",
      "0 1\n",
      "1 4\n",
      "4 0\n",
      "0 6\n",
      "6 4\n",
      "4 0\n"
     ]
    }
   ],
   "source": [
    "train_dataset = MulDataset('train')\n",
    "test_dataset = MulDataset('test')\n",
    "x, y = train_dataset[0]\n",
    "\n",
    "print (x)\n",
    "for a, b in zip(x,y):\n",
    "    print(int(a),int(b))"
   ]
  },
  {
   "cell_type": "code",
   "execution_count": 5,
   "metadata": {},
   "outputs": [
    {
     "name": "stdout",
     "output_type": "stream",
     "text": [
      "number of parameters: 0.80M\n"
     ]
    }
   ],
   "source": [
    "from mingpt.model import GPT\n",
    "\n",
    "model_config = GPT.get_default_config()\n",
    "model_config.model_type = 'gpt-micro'\n",
    "\n",
    "model_config.vocab_size = train_dataset.get_vocab_size()\n",
    "model_config.block_size = train_dataset.get_block_size()\n",
    "model = GPT(model_config)"
   ]
  },
  {
   "cell_type": "code",
   "execution_count": 6,
   "metadata": {},
   "outputs": [
    {
     "name": "stdout",
     "output_type": "stream",
     "text": [
      "4 4 128\n"
     ]
    }
   ],
   "source": [
    "print (model_config.n_head, model_config.n_layer, model_config.n_embd)"
   ]
  },
  {
   "cell_type": "code",
   "execution_count": 11,
   "metadata": {},
   "outputs": [
    {
     "name": "stdout",
     "output_type": "stream",
     "text": [
      "running on device cpu\n"
     ]
    }
   ],
   "source": [
    "\n",
    "# create a Trainer object\n",
    "from mingpt.trainer import Trainer\n",
    "\n",
    "train_config = Trainer.get_default_config()\n",
    "train_config.learning_rate = 5e-4 # the model we're using is so small that we can go a bit faster\n",
    "train_config.max_iters = 10000\n",
    "train_config.num_workers = 0\n",
    "# train_config.batch_size = 32\n",
    "trainer = Trainer(train_config, model, train_dataset)"
   ]
  },
  {
   "cell_type": "code",
   "execution_count": 15,
   "metadata": {},
   "outputs": [
    {
     "name": "stdout",
     "output_type": "stream",
     "text": [
      "iter_dt 79.81ms; iter 0: train loss 1.09415\n",
      "iter_dt 67.02ms; iter 100: train loss 1.10155\n",
      "iter_dt 67.31ms; iter 200: train loss 1.12475\n",
      "iter_dt 63.87ms; iter 300: train loss 1.09395\n",
      "iter_dt 57.33ms; iter 400: train loss 1.08058\n",
      "iter_dt 60.40ms; iter 500: train loss 1.07905\n",
      "iter_dt 76.66ms; iter 600: train loss 1.04403\n",
      "iter_dt 61.03ms; iter 700: train loss 1.01314\n",
      "iter_dt 64.20ms; iter 800: train loss 1.02203\n",
      "iter_dt 70.65ms; iter 900: train loss 1.05949\n",
      "iter_dt 57.30ms; iter 1000: train loss 1.06026\n",
      "iter_dt 66.95ms; iter 1100: train loss 1.06293\n",
      "iter_dt 65.30ms; iter 1200: train loss 1.09616\n",
      "iter_dt 56.63ms; iter 1300: train loss 1.08743\n",
      "iter_dt 63.58ms; iter 1400: train loss 1.03016\n",
      "iter_dt 57.76ms; iter 1500: train loss 1.09013\n",
      "iter_dt 68.93ms; iter 1600: train loss 1.06123\n",
      "iter_dt 61.23ms; iter 1700: train loss 1.01014\n",
      "iter_dt 64.99ms; iter 1800: train loss 1.02373\n",
      "iter_dt 60.56ms; iter 1900: train loss 0.98242\n",
      "iter_dt 61.72ms; iter 2000: train loss 1.04382\n",
      "iter_dt 57.59ms; iter 2100: train loss 0.99807\n",
      "iter_dt 60.09ms; iter 2200: train loss 1.02127\n",
      "iter_dt 49.94ms; iter 2300: train loss 1.04493\n",
      "iter_dt 65.26ms; iter 2400: train loss 1.03481\n",
      "iter_dt 60.68ms; iter 2500: train loss 1.01373\n",
      "iter_dt 58.64ms; iter 2600: train loss 1.03300\n",
      "iter_dt 61.57ms; iter 2700: train loss 1.05740\n",
      "iter_dt 58.29ms; iter 2800: train loss 1.01037\n",
      "iter_dt 66.20ms; iter 2900: train loss 1.03216\n",
      "iter_dt 61.10ms; iter 3000: train loss 1.03007\n",
      "iter_dt 57.74ms; iter 3100: train loss 0.99261\n",
      "iter_dt 55.81ms; iter 3200: train loss 1.03432\n",
      "iter_dt 56.11ms; iter 3300: train loss 0.98796\n",
      "iter_dt 50.17ms; iter 3400: train loss 1.01907\n",
      "iter_dt 62.94ms; iter 3500: train loss 1.04382\n",
      "iter_dt 60.46ms; iter 3600: train loss 0.98786\n",
      "iter_dt 61.13ms; iter 3700: train loss 1.02174\n",
      "iter_dt 61.11ms; iter 3800: train loss 0.98443\n",
      "iter_dt 69.23ms; iter 3900: train loss 0.99187\n",
      "iter_dt 57.51ms; iter 4000: train loss 1.00048\n",
      "iter_dt 61.39ms; iter 4100: train loss 0.98481\n",
      "iter_dt 56.53ms; iter 4200: train loss 1.02917\n",
      "iter_dt 55.21ms; iter 4300: train loss 0.98316\n",
      "iter_dt 57.80ms; iter 4400: train loss 1.03521\n",
      "iter_dt 59.01ms; iter 4500: train loss 0.98504\n",
      "iter_dt 65.93ms; iter 4600: train loss 0.98704\n",
      "iter_dt 56.52ms; iter 4700: train loss 1.05305\n",
      "iter_dt 59.30ms; iter 4800: train loss 0.95589\n",
      "iter_dt 69.07ms; iter 4900: train loss 1.00204\n",
      "iter_dt 63.78ms; iter 5000: train loss 0.99845\n",
      "iter_dt 64.52ms; iter 5100: train loss 0.96000\n",
      "iter_dt 58.85ms; iter 5200: train loss 0.99281\n",
      "iter_dt 58.25ms; iter 5300: train loss 0.95487\n",
      "iter_dt 54.16ms; iter 5400: train loss 0.98065\n",
      "iter_dt 60.62ms; iter 5500: train loss 0.87918\n",
      "iter_dt 61.70ms; iter 5600: train loss 0.97745\n",
      "iter_dt 60.29ms; iter 5700: train loss 1.00251\n",
      "iter_dt 56.74ms; iter 5800: train loss 0.98392\n",
      "iter_dt 47.23ms; iter 5900: train loss 0.94688\n",
      "iter_dt 56.88ms; iter 6000: train loss 0.99591\n",
      "iter_dt 60.82ms; iter 6100: train loss 0.96347\n",
      "iter_dt 66.13ms; iter 6200: train loss 1.00610\n",
      "iter_dt 60.88ms; iter 6300: train loss 0.93507\n",
      "iter_dt 63.29ms; iter 6400: train loss 0.96927\n",
      "iter_dt 58.19ms; iter 6500: train loss 0.97381\n",
      "iter_dt 60.88ms; iter 6600: train loss 0.90662\n",
      "iter_dt 61.16ms; iter 6700: train loss 0.95847\n",
      "iter_dt 69.22ms; iter 6800: train loss 0.98861\n",
      "iter_dt 60.51ms; iter 6900: train loss 0.94878\n",
      "iter_dt 64.54ms; iter 7000: train loss 1.00540\n",
      "iter_dt 59.15ms; iter 7100: train loss 0.92230\n",
      "iter_dt 61.02ms; iter 7200: train loss 0.98378\n",
      "iter_dt 59.03ms; iter 7300: train loss 0.97486\n",
      "iter_dt 58.06ms; iter 7400: train loss 0.96515\n",
      "iter_dt 63.99ms; iter 7500: train loss 0.97084\n",
      "iter_dt 59.23ms; iter 7600: train loss 0.97128\n",
      "iter_dt 57.28ms; iter 7700: train loss 0.95752\n",
      "iter_dt 65.02ms; iter 7800: train loss 0.91546\n",
      "iter_dt 62.25ms; iter 7900: train loss 1.01916\n",
      "iter_dt 77.60ms; iter 8000: train loss 0.92298\n",
      "iter_dt 61.24ms; iter 8100: train loss 0.96936\n",
      "iter_dt 62.26ms; iter 8200: train loss 0.94452\n",
      "iter_dt 68.92ms; iter 8300: train loss 0.88291\n",
      "iter_dt 60.56ms; iter 8400: train loss 0.92651\n",
      "iter_dt 79.65ms; iter 8500: train loss 1.00447\n",
      "iter_dt 59.40ms; iter 8600: train loss 0.94567\n",
      "iter_dt 58.67ms; iter 8700: train loss 0.90755\n",
      "iter_dt 59.53ms; iter 8800: train loss 0.87831\n",
      "iter_dt 65.25ms; iter 8900: train loss 0.93256\n",
      "iter_dt 94.09ms; iter 9000: train loss 0.89368\n",
      "iter_dt 61.23ms; iter 9100: train loss 1.00201\n",
      "iter_dt 55.30ms; iter 9200: train loss 0.87085\n",
      "iter_dt 49.88ms; iter 9300: train loss 0.87409\n",
      "iter_dt 57.51ms; iter 9400: train loss 0.98241\n",
      "iter_dt 58.54ms; iter 9500: train loss 0.88910\n",
      "iter_dt 64.99ms; iter 9600: train loss 0.91510\n",
      "iter_dt 51.53ms; iter 9700: train loss 0.87286\n",
      "iter_dt 55.78ms; iter 9800: train loss 0.88114\n",
      "iter_dt 60.89ms; iter 9900: train loss 0.90430\n"
     ]
    }
   ],
   "source": [
    "def batch_end_callback(trainer):\n",
    "    if trainer.iter_num % 100 == 0:\n",
    "        print(f\"iter_dt {trainer.iter_dt * 1000:.2f}ms; iter {trainer.iter_num}: train loss {trainer.loss.item():.5f}\")\n",
    "trainer.set_callback('on_batch_end', batch_end_callback)\n",
    "\n",
    "trainer.run()"
   ]
  },
  {
   "cell_type": "code",
   "execution_count": 16,
   "metadata": {},
   "outputs": [],
   "source": [
    "# now let's perform some evaluation\n",
    "model.eval()\n",
    "None"
   ]
  },
  {
   "cell_type": "code",
   "execution_count": 17,
   "metadata": {},
   "outputs": [
    {
     "name": "stdout",
     "output_type": "stream",
     "text": [
      "train final score: 328/10000 = 3.28% correct\n",
      "test final score: 337/10000 = 3.37% correct\n"
     ]
    }
   ],
   "source": [
    "def eval_add_split(trainer, split, max_batches):\n",
    "    dataset = {'train':train_dataset, 'test':test_dataset}[split]\n",
    "    n = train_dataset.length # naugy direct access shrug\n",
    "    results = []\n",
    "    mistakes_printed_already = 0\n",
    "    loader = DataLoader(dataset, batch_size=100, num_workers=0, drop_last=False)\n",
    "    #loader = DataLoader(dataset, batch_size=1, num_workers=0, drop_last=False)\n",
    "    for b, (x, y) in enumerate(loader):\n",
    "        x = x.to(trainer.device)\n",
    "        y = y.to(trainer.device)\n",
    "\n",
    "        inp = x[:, :2*n]\n",
    "        sol = y[:, -2*n:]\n",
    "        \n",
    "        cat = model.generate(inp, 2*n, do_sample=False) # using greedy argmax, not sampling\n",
    "        sol_candidate = cat[:, -2*n:]      \n",
    "        correct = (sol == sol_candidate).all(1).cpu() \n",
    "        for i in range(x.size(0)):\n",
    "            results.append(int(correct[i]))\n",
    "    \n",
    "    rt = torch.tensor(results, dtype=torch.float)\n",
    "    print(\"%s final score: %d/%d = %.2f%% correct\" % (split, rt.sum(), len(results), 100*rt.mean()))\n",
    "    return rt.sum()\n",
    "\n",
    "# run a lot of examples from both train and test through the model and verify the output correctness\n",
    "with torch.no_grad():\n",
    "    train_score = eval_add_split(trainer, 'train', max_batches=50)\n",
    "    test_score  = eval_add_split(trainer, 'test',  max_batches=50)"
   ]
  },
  {
   "cell_type": "code",
   "execution_count": null,
   "metadata": {},
   "outputs": [],
   "source": []
  }
 ],
 "metadata": {
  "kernelspec": {
   "display_name": "Python 3",
   "language": "python",
   "name": "python3"
  },
  "language_info": {
   "codemirror_mode": {
    "name": "ipython",
    "version": 3
   },
   "file_extension": ".py",
   "mimetype": "text/x-python",
   "name": "python",
   "nbconvert_exporter": "python",
   "pygments_lexer": "ipython3",
   "version": "3.11.9"
  }
 },
 "nbformat": 4,
 "nbformat_minor": 2
}
